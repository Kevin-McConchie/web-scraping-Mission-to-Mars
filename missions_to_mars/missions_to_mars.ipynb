{
 "cells": [
  {
   "cell_type": "code",
   "execution_count": 1,
   "metadata": {},
   "outputs": [],
   "source": [
    "# Dependencies\n",
    "from bs4 import BeautifulSoup as bs\n",
    "import requests\n",
    "import os\n",
    "import pymongo\n",
    "from splinter import Browser\n",
    "from webdriver_manager.chrome import ChromeDriverManager\n"
   ]
  },
  {
   "cell_type": "code",
   "execution_count": 2,
   "metadata": {},
   "outputs": [],
   "source": [
    "# Initialize PyMongo to work with MongoDBs\n",
    "conn = 'mongodb://localhost:27017'\n",
    "client = pymongo.MongoClient(conn)\n",
    "\n",
    "# Define database and collection\n",
    "db = client.news_db\n",
    "collection = db.items\n"
   ]
  },
  {
   "cell_type": "code",
   "execution_count": 43,
   "metadata": {},
   "outputs": [
    {
     "name": "stdout",
     "output_type": "stream",
     "text": [
      "\n"
     ]
    },
    {
     "data": {
      "text/plain": [
       "{'title': <div class=\"content_title\">The Extraordinary Sample-Gathering System of NASA's Perseverance Mars Rover</div>,\n",
       " 'teaser': <div class=\"article_teaser_body\">Two astronauts collected Moon rocks on Apollo 11. It will take three robotic systems working together to gather up the first Mars rock samples for return to Earth.</div>}"
      ]
     },
     "execution_count": 43,
     "metadata": {},
     "output_type": "execute_result"
    }
   ],
   "source": [
    "\n",
    "\n",
    "def scrape():\n",
    "    # browser = init_browser()\n",
    "    executable_path = {'executable_path': ChromeDriverManager().install()}\n",
    "    browser = Browser('chrome', **executable_path, headless=False)\n",
    "\n",
    "    # Dictionary to be inserted as a MongoDB document\n",
    "    listings = {}\n",
    "\n",
    "    url = 'https://redplanetscience.com/'\n",
    "    browser.visit(url)\n",
    "\n",
    "    html = browser.html\n",
    "    soup = bs(html, \"html.parser\")\n",
    "\n",
    "    # Identify and return title of listing\n",
    "    listings[\"title\"] = soup.find(\"div\", class_=\"content_title\")\n",
    "    # Identify and return teaser of listing\n",
    "    listings['teaser'] = soup.find(\"div\", class_=\"article_teaser_body\")\n",
    "    \n",
    "    # Quit the browser\n",
    "    browser.quit()\n",
    "\n",
    "    return listings\n",
    "\n",
    "scrape()\n"
   ]
  },
  {
   "cell_type": "code",
   "execution_count": 37,
   "metadata": {},
   "outputs": [
    {
     "name": "stdout",
     "output_type": "stream",
     "text": [
      "\n"
     ]
    },
    {
     "data": {
      "text/plain": [
       "{'title': \"5 Hidden Gems Are Riding Aboard NASA's Perseverance Rover\",\n",
       " 'teaser': \"The symbols, mottos, and small objects added to the agency's newest Mars rover serve a variety of purposes, from functional to decorative.\"}"
      ]
     },
     "execution_count": 37,
     "metadata": {},
     "output_type": "execute_result"
    }
   ],
   "source": [
    "\n",
    "# def scrape():\n",
    "# # browser = init_browser()\n",
    "# executable_path = {'executable_path': ChromeDriverManager().install()}\n",
    "# browser = Browser('chrome', **executable_path, headless=False)\n",
    "\n",
    "\n",
    "# # Dictionary to be inserted as a MongoDB document\n",
    "# listings = {}\n",
    "\n",
    "# url = 'https://redplanetscience.com/'\n",
    "# browser.visit(url)\n",
    "\n",
    "# html = browser.html\n",
    "# soup = bs(html, \"html.parser\")\n",
    "\n",
    "\n",
    "# for listing in listings:\n",
    "    \n",
    "#     try:\n",
    "#         # Identify and return title of listing\n",
    "#         title= soup.find(\"div\", class_=\"content_title\").get_text()\n",
    "#         # Identify and return teaser of listing\n",
    "#         teaser = soup.find(\"div\", class_=\"article_teaser_body\").get_text()\n",
    "    \n",
    "\n",
    "#         post = {\n",
    "#                 'title': title,\n",
    "#                 'teaser':teaser,\n",
    "                \n",
    "#             }\n",
    "\n",
    "#         collection.insert_one(post)\n",
    "\n",
    "    \n",
    "#     except Exception as e:\n",
    "#         print(e)\n",
    "        \n",
    "# # Quit the browser\n",
    "# browser.quit()\n",
    "\n",
    "# post\n",
    "\n",
    "# # scrape()\n"
   ]
  },
  {
   "cell_type": "code",
   "execution_count": 40,
   "metadata": {},
   "outputs": [
    {
     "data": {
      "text/plain": [
       "[]"
      ]
     },
     "execution_count": 40,
     "metadata": {},
     "output_type": "execute_result"
    }
   ],
   "source": [
    "# Examine the results, then determine element that contains sought info\n",
    "\n",
    "# results are returned as an iterable list\n",
    "# news_items=[]\n",
    "\n",
    "# results = soup.find_all('div', class_='content_title')\n",
    "\n",
    "# # Loop through returned results\n",
    "# for result in results:\n",
    "#     # Error handling\n",
    "#     try:\n",
    "#         # Identify and return title of listing\n",
    "#         news_title = result.find('div', class_='content_title')\n",
    "#         # Identify and return price of listing\n",
    "#         # news_p = result.find('div', class_='article_teaser_body')\n",
    "\n",
    "#         # Run only if title, paragraph are available\n",
    "#         if (news_title):\n",
    "#             # Print results\n",
    "#             print('-------------')\n",
    "#             print(news_title)\n",
    "#             # print(news_p)\n",
    "\n",
    "\n",
    "#             # Dictionary to be inserted as a MongoDB document\n",
    "#             news_items = {\n",
    "#                 'title': news_title,\n",
    "#                 'teaser': news_p,\n",
    "#             }\n",
    "\n",
    "#             collection.insert_one(news_items)\n",
    "\n",
    "#     except Exception as e:\n",
    "#         print(e)\n",
    "# news_items"
   ]
  }
 ],
 "metadata": {
  "kernelspec": {
   "display_name": "Python 3.7.13 ('bootcamp')",
   "language": "python",
   "name": "python3"
  },
  "language_info": {
   "codemirror_mode": {
    "name": "ipython",
    "version": 3
   },
   "file_extension": ".py",
   "mimetype": "text/x-python",
   "name": "python",
   "nbconvert_exporter": "python",
   "pygments_lexer": "ipython3",
   "version": "3.7.13"
  },
  "orig_nbformat": 4,
  "vscode": {
   "interpreter": {
    "hash": "2bc8728f68034420f4cc4c1a33cad6b752b6f009e9e443ca9c4b593c272a5f29"
   }
  }
 },
 "nbformat": 4,
 "nbformat_minor": 2
}
